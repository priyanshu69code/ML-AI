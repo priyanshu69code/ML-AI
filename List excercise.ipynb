{
 "cells": [
  {
   "cell_type": "code",
   "execution_count": null,
   "metadata": {},
   "outputs": [],
   "source": [
    "row = int(input(\"Enter The Row: \"))\n",
    "column = int(input(\"Enter The Column: \"))\n",
    "\n",
    "list1 = [int(x) for x in input().split()]\n",
    "\n",
    "print(\"List in 1D array: \",list1)"
   ]
  },
  {
   "cell_type": "code",
   "execution_count": null,
   "metadata": {},
   "outputs": [],
   "source": [
    "twoD_array = []\n",
    "\n",
    "for i in range(row):\n",
    "    twoD_array.append([])\n",
    "    for j in range(column):\n",
    "        twoD_array[i].append(list1[column*i+j])\n",
    "\n",
    "print(\"List in 2d Array: \",twoD_array)"
   ]
  },
  {
   "cell_type": "code",
   "execution_count": null,
   "metadata": {},
   "outputs": [],
   "source": [
    "for j in range(row):\n",
    "    if j % 2 == 0:\n",
    "        for i in range(column):\n",
    "            print(twoD_array[j][i])\n",
    "    else:\n",
    "        i = row - 1\n",
    "        while i > 0:\n",
    "            print(twoD_array[j][i])\n",
    "            i = i - 1 "
   ]
  }
 ],
 "metadata": {
  "kernelspec": {
   "display_name": "Python 3",
   "language": "python",
   "name": "python3"
  },
  "language_info": {
   "codemirror_mode": {
    "name": "ipython",
    "version": 3
   },
   "file_extension": ".py",
   "mimetype": "text/x-python",
   "name": "python",
   "nbconvert_exporter": "python",
   "pygments_lexer": "ipython3",
   "version": "3.11.2"
  },
  "orig_nbformat": 4
 },
 "nbformat": 4,
 "nbformat_minor": 2
}
